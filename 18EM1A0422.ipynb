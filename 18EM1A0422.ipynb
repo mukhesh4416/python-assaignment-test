{
 "cells": [
  {
   "cell_type": "markdown",
   "metadata": {},
   "source": [
    "###  1.create a function to print only alphabets from a string\n",
    "###  2.create a function to check weather the given string is parllindrome or not"
   ]
  },
  {
   "cell_type": "code",
   "execution_count": 18,
   "metadata": {},
   "outputs": [
    {
     "name": "stdout",
     "output_type": "stream",
     "text": [
      "name:  jaibalayya\n",
      "string:   a b c e d d f g h \n"
     ]
    }
   ],
   "source": [
    "### create a function to print only alphabets from a string\n",
    "import re\n",
    "int_string = \"jaibalayya\"\n",
    "print (\"name: \",int_string) \n",
    "res = \" \".join(re.split(\"[^a-zA-Z]*\", ini_string2))  \n",
    "print (\"string: \", str(res))\n"
   ]
  },
  {
   "cell_type": "markdown",
   "metadata": {},
   "source": [
    "##### create a function to check weather the given string is parllindrome or not"
   ]
  },
  {
   "cell_type": "code",
   "execution_count": 48,
   "metadata": {},
   "outputs": [
    {
     "name": "stdout",
     "output_type": "stream",
     "text": [
      "madam\n",
      "Yes\n"
     ]
    }
   ],
   "source": [
    "def reverse(s): \n",
    "    return s[::-1] \n",
    "def isPalindrome(s): \n",
    "    rev = reverse(s) \n",
    "    if (s == rev): \n",
    "        return True\n",
    "    return False\n",
    "s = \"madam\"\n",
    "print(s)\n",
    "ans = isPalindrome(s) \n",
    "if ans == 1: \n",
    "    print(\"Yes\") \n",
    "else: \n",
    "    print(\"No\") "
   ]
  },
  {
   "cell_type": "code",
   "execution_count": 50,
   "metadata": {},
   "outputs": [
    {
     "name": "stdout",
     "output_type": "stream",
     "text": [
      "balayya\n",
      "No\n"
     ]
    }
   ],
   "source": [
    "def reverse(s): \n",
    "    return s[::-1] \n",
    "def isPalindrome(s): \n",
    "    rev = reverse(s) \n",
    "    if (s == rev): \n",
    "        return True\n",
    "    return False\n",
    "s = \"balayya\"\n",
    "print(s)\n",
    "ans = isPalindrome(s) \n",
    "if ans == 1: \n",
    "    print(\"Yes\") \n",
    "else: \n",
    "    print(\"No\") "
   ]
  },
  {
   "cell_type": "code",
   "execution_count": null,
   "metadata": {},
   "outputs": [],
   "source": []
  }
 ],
 "metadata": {
  "kernelspec": {
   "display_name": "Python 3",
   "language": "python",
   "name": "python3"
  },
  "language_info": {
   "codemirror_mode": {
    "name": "ipython",
    "version": 3
   },
   "file_extension": ".py",
   "mimetype": "text/x-python",
   "name": "python",
   "nbconvert_exporter": "python",
   "pygments_lexer": "ipython3",
   "version": "3.7.3"
  }
 },
 "nbformat": 4,
 "nbformat_minor": 2
}
